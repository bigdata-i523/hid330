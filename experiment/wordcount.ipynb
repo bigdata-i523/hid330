{
 "cells": [
  {
   "cell_type": "code",
   "execution_count": 1,
   "metadata": {},
   "outputs": [
    {
     "name": "stdout",
     "output_type": "stream",
     "text": [
      "\n",
      "                Edge computing is a distributed information technology architecture\n",
      "                in which client data is processed at the periphery\n",
      "                of the network, as close to the originating source as possible  The move toward edge computing\n",
      "                is driven by mobile computing, the decreasing cost of computer components and the sheer number of\n",
      "                networked devices in the internet of things  Depending on the implementation, time-sensitive data\n",
      "                in an edge computing architecture may be processed at the point of origin by an intelligent device or\n",
      "                sent to an intermediary server located in close geographical proximity to the client \n",
      "92\n"
     ]
    }
   ],
   "source": [
    "myparagraph = \"\"\"\n",
    "                Edge computing is a distributed information technology architecture\n",
    "                in which client data is processed at the periphery\n",
    "                of the network, as close to the originating source as possible. The move toward edge computing\n",
    "                is driven by mobile computing, the decreasing cost of computer components and the sheer number of\n",
    "                networked devices in the internet of things. Depending on the implementation, time-sensitive data\n",
    "                in an edge computing architecture may be processed at the point of origin by an intelligent device or\n",
    "                sent to an intermediary server located in close geographical proximity to the client.\"\"\"\n",
    "numwords = 0\n",
    "\n",
    "for  symbols in \",.\":\n",
    "    mySentence = myparagraph .replace(symbols, ' ')\n",
    "print (mySentence)\n",
    "for line in mySentence:\n",
    "    word_list = mySentence.split()\n",
    "    numwords = len(word_list)\n",
    "print (numwords)\n",
    "\n",
    "               "
   ]
  },
  {
   "cell_type": "code",
   "execution_count": null,
   "metadata": {
    "collapsed": true
   },
   "outputs": [],
   "source": [
    "\n",
    "\n",
    "\n"
   ]
  },
  {
   "cell_type": "code",
   "execution_count": null,
   "metadata": {
    "collapsed": true
   },
   "outputs": [],
   "source": []
  }
 ],
 "metadata": {
  "kernelspec": {
   "display_name": "Python 2",
   "language": "python",
   "name": "python2"
  },
  "language_info": {
   "codemirror_mode": {
    "name": "ipython",
    "version": 2
   },
   "file_extension": ".py",
   "mimetype": "text/x-python",
   "name": "python",
   "nbconvert_exporter": "python",
   "pygments_lexer": "ipython2",
   "version": "2.7.14"
  }
 },
 "nbformat": 4,
 "nbformat_minor": 2
}

